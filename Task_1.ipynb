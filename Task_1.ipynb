{
  "nbformat": 4,
  "nbformat_minor": 0,
  "metadata": {
    "colab": {
      "provenance": []
    },
    "kernelspec": {
      "name": "python3",
      "display_name": "Python 3"
    },
    "language_info": {
      "name": "python"
    }
  },
  "cells": [
    {
      "cell_type": "code",
      "source": [
        "from google.colab import drive\n",
        "drive.mount('/content/drive')\n"
      ],
      "metadata": {
        "colab": {
          "base_uri": "https://localhost:8080/"
        },
        "id": "L9j4OhziRguQ",
        "outputId": "70223418-73c4-468e-ffcb-78e79b41619a"
      },
      "execution_count": 1,
      "outputs": [
        {
          "output_type": "stream",
          "name": "stdout",
          "text": [
            "Mounted at /content/drive\n"
          ]
        }
      ]
    },
    {
      "cell_type": "code",
      "source": [
        "import pandas as pd\n",
        "\n",
        "# Load the dataset\n",
        "df = pd.read_csv('titanic.csv')\n",
        "print(df)\n",
        "\n",
        "\n"
      ],
      "metadata": {
        "colab": {
          "base_uri": "https://localhost:8080/"
        },
        "id": "03lutoFa1vdO",
        "outputId": "6ee4388c-ccb7-4b3f-c418-d4c8716cd6d4"
      },
      "execution_count": 6,
      "outputs": [
        {
          "output_type": "stream",
          "name": "stdout",
          "text": [
            "     PassengerId  Pclass                                          Name  \\\n",
            "0            892       3                              Kelly, Mr. James   \n",
            "1            893       3              Wilkes, Mrs. James (Ellen Needs)   \n",
            "2            894       2                     Myles, Mr. Thomas Francis   \n",
            "3            895       3                              Wirz, Mr. Albert   \n",
            "4            896       3  Hirvonen, Mrs. Alexander (Helga E Lindqvist)   \n",
            "..           ...     ...                                           ...   \n",
            "413         1305       3                            Spector, Mr. Woolf   \n",
            "414         1306       1                  Oliva y Ocana, Dona. Fermina   \n",
            "415         1307       3                  Saether, Mr. Simon Sivertsen   \n",
            "416         1308       3                           Ware, Mr. Frederick   \n",
            "417         1309       3                      Peter, Master. Michael J   \n",
            "\n",
            "        Sex   Age  SibSp  Parch              Ticket      Fare Cabin Embarked  \n",
            "0      male  34.5      0      0              330911    7.8292   NaN        Q  \n",
            "1    female  47.0      1      0              363272    7.0000   NaN        S  \n",
            "2      male  62.0      0      0              240276    9.6875   NaN        Q  \n",
            "3      male  27.0      0      0              315154    8.6625   NaN        S  \n",
            "4    female  22.0      1      1             3101298   12.2875   NaN        S  \n",
            "..      ...   ...    ...    ...                 ...       ...   ...      ...  \n",
            "413    male   NaN      0      0           A.5. 3236    8.0500   NaN        S  \n",
            "414  female  39.0      0      0            PC 17758  108.9000  C105        C  \n",
            "415    male  38.5      0      0  SOTON/O.Q. 3101262    7.2500   NaN        S  \n",
            "416    male   NaN      0      0              359309    8.0500   NaN        S  \n",
            "417    male   NaN      1      1                2668   22.3583   NaN        C  \n",
            "\n",
            "[418 rows x 11 columns]\n"
          ]
        }
      ]
    },
    {
      "cell_type": "code",
      "source": [
        "# Identify the missing values\n",
        "missing_values = df.isna().sum()\n",
        "\n"
      ],
      "metadata": {
        "id": "iXqdBmLK2Ley"
      },
      "execution_count": 7,
      "outputs": []
    },
    {
      "cell_type": "code",
      "source": [
        "# Remove the missing values\n",
        "df = df.dropna()\n",
        "\n"
      ],
      "metadata": {
        "id": "N2LP92pB2WnS"
      },
      "execution_count": 8,
      "outputs": []
    },
    {
      "cell_type": "code",
      "source": [
        "print(df)"
      ],
      "metadata": {
        "colab": {
          "base_uri": "https://localhost:8080/"
        },
        "id": "HW4jLgBm2gbT",
        "outputId": "b521bcf7-8f1a-4ff8-ced7-f70b24499884"
      },
      "execution_count": 10,
      "outputs": [
        {
          "output_type": "stream",
          "name": "stdout",
          "text": [
            "     PassengerId  Pclass                                               Name  \\\n",
            "12           904       1      Snyder, Mrs. John Pillsbury (Nelle Stevenson)   \n",
            "14           906       1  Chaffee, Mrs. Herbert Fuller (Carrie Constance...   \n",
            "24           916       1    Ryerson, Mrs. Arthur Larned (Emily Maria Borie)   \n",
            "26           918       1                       Ostby, Miss. Helene Ragnhild   \n",
            "28           920       1                            Brady, Mr. John Bertram   \n",
            "..           ...     ...                                                ...   \n",
            "404         1296       1                       Frauenthal, Mr. Isaac Gerald   \n",
            "405         1297       2       Nourney, Mr. Alfred (Baron von Drachstedt\")\"   \n",
            "407         1299       1                         Widener, Mr. George Dunton   \n",
            "411         1303       1    Minahan, Mrs. William Edward (Lillian E Thorpe)   \n",
            "414         1306       1                       Oliva y Ocana, Dona. Fermina   \n",
            "\n",
            "        Sex   Age  SibSp  Parch         Ticket      Fare            Cabin  \\\n",
            "12   female  23.0      1      0          21228   82.2667              B45   \n",
            "14   female  47.0      1      0    W.E.P. 5734   61.1750              E31   \n",
            "24   female  48.0      1      3       PC 17608  262.3750  B57 B59 B63 B66   \n",
            "26   female  22.0      0      1         113509   61.9792              B36   \n",
            "28     male  41.0      0      0         113054   30.5000              A21   \n",
            "..      ...   ...    ...    ...            ...       ...              ...   \n",
            "404    male  43.0      1      0          17765   27.7208              D40   \n",
            "405    male  20.0      0      0  SC/PARIS 2166   13.8625              D38   \n",
            "407    male  50.0      1      1         113503  211.5000              C80   \n",
            "411  female  37.0      1      0          19928   90.0000              C78   \n",
            "414  female  39.0      0      0       PC 17758  108.9000             C105   \n",
            "\n",
            "    Embarked  \n",
            "12         S  \n",
            "14         S  \n",
            "24         C  \n",
            "26         C  \n",
            "28         S  \n",
            "..       ...  \n",
            "404        C  \n",
            "405        C  \n",
            "407        C  \n",
            "411        Q  \n",
            "414        C  \n",
            "\n",
            "[87 rows x 11 columns]\n"
          ]
        }
      ]
    },
    {
      "cell_type": "code",
      "source": [
        "# Identify the outliers\n",
        "outliers = df.loc[(df['PassengerId'] < df['PassengerId'].quantile(0.05)) | (df['PassengerId'] > df['PassengerId'].quantile(0.95))]\n",
        "\n",
        "# Remove the outliers\n",
        "df = df.drop(outliers.index)\n",
        "print(df)\n"
      ],
      "metadata": {
        "colab": {
          "base_uri": "https://localhost:8080/"
        },
        "id": "Q41S8Jil2Y3E",
        "outputId": "4e0370ac-350e-42a3-df01-462acc4773c2"
      },
      "execution_count": 12,
      "outputs": [
        {
          "output_type": "stream",
          "name": "stdout",
          "text": [
            "     PassengerId  Pclass                                   Name     Sex   Age  \\\n",
            "50           942       1               Smith, Mr. Lucien Philip    male  24.0   \n",
            "53           945       1             Fortune, Miss. Ethel Flora  female  28.0   \n",
            "57           949       3          Abelseth, Mr. Olaus Jorgensen    male  25.0   \n",
            "59           951       1            Chaudanson, Miss. Victorine  female  36.0   \n",
            "64           956       1            Ryerson, Master. John Borie    male  13.0   \n",
            "..           ...     ...                                    ...     ...   ...   \n",
            "371         1263       1              Wilson, Miss. Helen Alice  female  31.0   \n",
            "372         1264       1                Ismay, Mr. Joseph Bruce    male  49.0   \n",
            "374         1266       1  Dodge, Mrs. Washington (Ruth Vidaver)  female  54.0   \n",
            "378         1270       1            Hipkins, Mr. William Edward    male  55.0   \n",
            "390         1282       1             Payne, Mr. Vivian Ponsonby    male  23.0   \n",
            "\n",
            "     SibSp  Parch    Ticket      Fare            Cabin Embarked  \n",
            "50       1      0     13695   60.0000              C31        S  \n",
            "53       3      2     19950  263.0000      C23 C25 C27        S  \n",
            "57       0      0    348122    7.6500            F G63        S  \n",
            "59       0      0  PC 17608  262.3750              B61        C  \n",
            "64       2      2  PC 17608  262.3750  B57 B59 B63 B66        C  \n",
            "..     ...    ...       ...       ...              ...      ...  \n",
            "371      0      0     16966  134.5000          E39 E41        C  \n",
            "372      0      0    112058    0.0000      B52 B54 B56        S  \n",
            "374      1      1     33638   81.8583              A34        S  \n",
            "378      0      0       680   50.0000              C39        S  \n",
            "390      0      0     12749   93.5000              B24        S  \n",
            "\n",
            "[69 rows x 11 columns]\n"
          ]
        }
      ]
    },
    {
      "cell_type": "code",
      "source": [
        "\n"
      ],
      "metadata": {
        "id": "la9Pe2GE2cS4"
      },
      "execution_count": 14,
      "outputs": []
    }
  ]
}